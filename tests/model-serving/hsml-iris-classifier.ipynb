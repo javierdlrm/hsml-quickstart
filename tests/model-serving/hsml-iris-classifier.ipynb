{
 "cells": [
  {
   "cell_type": "markdown",
   "id": "e033a180",
   "metadata": {},
   "source": [
    "# HSML - Iris flower classifier"
   ]
  },
  {
   "cell_type": "code",
   "execution_count": 1,
   "id": "c1a70536",
   "metadata": {},
   "outputs": [],
   "source": [
    "import hsml\n",
    "\n",
    "from hsml.kafka_topic_config import KafkaTopicConfig\n",
    "from hsml.inference_logger_config import InferenceLoggerConfig\n",
    "from hsml.resources_config import PredictorResourcesConfig\n",
    "from hsml.predictor_config import PredictorConfig\n",
    "from hsml.transformer_config import TransformerConfig"
   ]
  },
  {
   "cell_type": "code",
   "execution_count": 2,
   "id": "17e6cefc",
   "metadata": {},
   "outputs": [
    {
     "name": "stdout",
     "output_type": "stream",
     "text": [
      "Connected. Call `.close()` to terminate connection gracefully.\n"
     ]
    }
   ],
   "source": [
    "# connection\n",
    "conn = hsml.connection()\n",
    "\n",
    "# model registry\n",
    "mr = conn.get_model_registry()\n",
    "\n",
    "# model serving\n",
    "ms = conn.get_model_serving()"
   ]
  },
  {
   "cell_type": "markdown",
   "id": "723facb7",
   "metadata": {},
   "source": [
    "## Get best model"
   ]
  },
  {
   "cell_type": "code",
   "execution_count": 3,
   "id": "805ec7f9",
   "metadata": {},
   "outputs": [],
   "source": [
    "MODEL_NAME = \"irisflowerclassifier\""
   ]
  },
  {
   "cell_type": "code",
   "execution_count": 4,
   "id": "0db888b0",
   "metadata": {},
   "outputs": [],
   "source": [
    "# get best model\n",
    "iris_model = mr.get_best_model(MODEL_NAME, \"accuracy\", \"max\")"
   ]
  },
  {
   "cell_type": "markdown",
   "id": "2becea47",
   "metadata": {},
   "source": [
    "## Deploy the model"
   ]
  },
  {
   "cell_type": "markdown",
   "id": "fcf920b6",
   "metadata": {},
   "source": [
    "### Option A. Using model _.deploy()_"
   ]
  },
  {
   "cell_type": "code",
   "execution_count": 5,
   "id": "93af0848",
   "metadata": {},
   "outputs": [
    {
     "data": {
      "text/plain": [
       "<hsml.deployment.Deployment at 0x7f625140d430>"
      ]
     },
     "execution_count": 5,
     "metadata": {},
     "output_type": "execute_result"
    }
   ],
   "source": [
    "# simplest syntax\n",
    "\n",
    "iris_model.deploy() # model name -> deployment name\n",
    "\n",
    "# or, \n",
    "iris_model.deploy(name=\"irisdeployment\")\n",
    "\n",
    "# or,\n",
    "#iris_model.deploy(artifact_version=3) \n",
    "\n",
    "# ..."
   ]
  },
  {
   "cell_type": "code",
   "execution_count": 6,
   "id": "014e2799",
   "metadata": {},
   "outputs": [
    {
     "name": "stdout",
     "output_type": "stream",
     "text": [
      "{\n",
      "    \"predictor_resources_config\": {\n",
      "        \"cores\": 1,\n",
      "        \"gpus\": 0,\n",
      "        \"memory\": 1024\n",
      "    },\n",
      "    \"requested_instances\": 1\n",
      "}\n",
      "{\n",
      "    \"batching_enabled\": false,\n",
      "    \"inference_logging\": \"NONE\",\n",
      "    \"model_server\": \"PYTHON\",\n",
      "    \"predictor\": \"/Projects/demo_ml_meb10000/Jupyter/serving/docker_and_kubernetes/python/predictor.py\",\n",
      "    \"predictor_resources_config\": {\n",
      "        \"cores\": 1,\n",
      "        \"gpus\": 0,\n",
      "        \"memory\": 1024\n",
      "    },\n",
      "    \"requested_instances\": 1,\n",
      "    \"serving_tool\": \"DEFAULT\"\n",
      "}\n"
     ]
    }
   ],
   "source": [
    "# with predictor config\n",
    "\n",
    "PREDICTOR_SCRIPT = \"/Projects/demo_ml_meb10000/Jupyter/serving/docker_and_kubernetes/python/predictor.py\"\n",
    "\n",
    "# resources config:  Optional\n",
    "resources_config = PredictorResourcesConfig(num_instances=1,\n",
    "                                   cores=1,\n",
    "                                   memory=1024,\n",
    "                                   gpus=0)\n",
    "resources_config.describe()\n",
    "\n",
    "# predictor config: \n",
    "predictor_config = PredictorConfig(model_server=\"PYTHON\", # the only mandatory\n",
    "                                   serving_tool=\"DEFAULT\",\n",
    "                                   script_file=PREDICTOR_SCRIPT,\n",
    "                                   resources_config=resources_config,\n",
    "                                   inference_logger=None,\n",
    "                                   inference_batcher=None)\n",
    "predictor_config.describe()"
   ]
  },
  {
   "cell_type": "code",
   "execution_count": 7,
   "id": "5e1702f1",
   "metadata": {},
   "outputs": [
    {
     "name": "stdout",
     "output_type": "stream",
     "text": [
      "{\n",
      "    \"artifact_version\": 5,\n",
      "    \"batching_enabled\": false,\n",
      "    \"created\": \"2022-02-02T14:49:04.15Z\",\n",
      "    \"creator\": \"Admin Admin\",\n",
      "    \"id\": 15,\n",
      "    \"inference_logging\": \"NONE\",\n",
      "    \"model_name\": \"irisflowerclassifier\",\n",
      "    \"model_path\": \"/Projects/demo_ml_meb10000/Models/irisflowerclassifier\",\n",
      "    \"model_server\": \"PYTHON\",\n",
      "    \"model_version\": 1,\n",
      "    \"name\": \"irisclassifierfrommodel\",\n",
      "    \"predictor\": \"predictor.py\",\n",
      "    \"predictor_resources_config\": {\n",
      "        \"cores\": 1,\n",
      "        \"gpus\": 0,\n",
      "        \"memory\": 1024\n",
      "    },\n",
      "    \"requested_instances\": 1,\n",
      "    \"serving_tool\": \"DEFAULT\"\n",
      "}\n"
     ]
    }
   ],
   "source": [
    "deployment = iris_model.deploy(name=\"irisclassifierfrommodel\", predictor_config=predictor_config)\n",
    "deployment.describe()"
   ]
  },
  {
   "cell_type": "markdown",
   "id": "405e6d96",
   "metadata": {},
   "source": [
    "### Option B. Creating a predictor and _.deploy()_"
   ]
  },
  {
   "cell_type": "code",
   "execution_count": 8,
   "id": "4468f655",
   "metadata": {},
   "outputs": [
    {
     "data": {
      "text/plain": [
       "{'id': 16,\n",
       " 'name': 'irisclassifierfrompredictor',\n",
       " 'modelName': 'irisflowerclassifier',\n",
       " 'modelPath': '/Projects/demo_ml_meb10000/Models/irisflowerclassifier',\n",
       " 'modelVersion': 1,\n",
       " 'artifactVersion': 6,\n",
       " 'created': '2022-02-02T14:49:14.998Z',\n",
       " 'creator': 'Admin Admin',\n",
       " 'modelServer': 'PYTHON',\n",
       " 'servingTool': 'DEFAULT',\n",
       " 'predictor': 'predictor.py',\n",
       " 'requestedInstances': 1,\n",
       " 'predictorResourcesConfig': {'cores': 1, 'memory': 1024, 'gpus': 0},\n",
       " 'inferenceLogging': 'NONE',\n",
       " 'batchingEnabled': False}"
      ]
     },
     "execution_count": 8,
     "metadata": {},
     "output_type": "execute_result"
    }
   ],
   "source": [
    "iris_predictor = ms.create_predictor(name=\"irisclassifierfrompredictor\",\n",
    "                                     model=iris_model,\n",
    "                                     predictor_config=predictor_config)\n",
    "deployment = iris_predictor.deploy()\n",
    "deployment.to_dict()"
   ]
  },
  {
   "cell_type": "markdown",
   "id": "6c910624",
   "metadata": {},
   "source": [
    "### Option C. Creating a deployment and _.save()_"
   ]
  },
  {
   "cell_type": "code",
   "execution_count": 9,
   "id": "81dbda1f",
   "metadata": {},
   "outputs": [
    {
     "data": {
      "text/plain": [
       "{'id': 17,\n",
       " 'name': 'irisclassifierfromdeployment',\n",
       " 'modelName': 'irisflowerclassifier',\n",
       " 'modelPath': '/Projects/demo_ml_meb10000/Models/irisflowerclassifier',\n",
       " 'modelVersion': 1,\n",
       " 'artifactVersion': 7,\n",
       " 'created': '2022-02-02T14:49:25.703Z',\n",
       " 'creator': 'Admin Admin',\n",
       " 'modelServer': 'PYTHON',\n",
       " 'servingTool': 'DEFAULT',\n",
       " 'predictor': 'predictor.py',\n",
       " 'requestedInstances': 1,\n",
       " 'predictorResourcesConfig': {'cores': 1, 'memory': 1024, 'gpus': 0},\n",
       " 'inferenceLogging': 'NONE',\n",
       " 'batchingEnabled': False}"
      ]
     },
     "execution_count": 9,
     "metadata": {},
     "output_type": "execute_result"
    }
   ],
   "source": [
    "iris_predictor = ms.create_predictor(model=iris_model,\n",
    "                                     predictor_config=predictor_config)\n",
    "deployment = ms.create_deployment(iris_predictor, name=\"irisclassifierfromdeployment\")\n",
    "deployment.save()\n",
    "\n",
    "deployment.to_dict()"
   ]
  },
  {
   "cell_type": "markdown",
   "id": "579aaf7b",
   "metadata": {},
   "source": [
    "### More complex deployment"
   ]
  },
  {
   "cell_type": "code",
   "execution_count": 14,
   "id": "1925a159",
   "metadata": {},
   "outputs": [],
   "source": [
    "PREDICTOR_SCRIPT = \"/Projects/demo_ml_meb10000/Jupyter/serving/kfserving/python/predictor.py\"\n",
    "TRANSFORMER_SCRIPT = \"/Projects/demo_ml_meb10000/Jupyter/serving/kfserving/sklearn/transformer.py\"\n",
    "\n",
    "predictor_config = PredictorConfig(model_server=\"PYTHON\",\n",
    "                                   serving_tool=\"KFSERVING\",\n",
    "                                   script_file=PREDICTOR_SCRIPT)\n",
    "\n",
    "transformer_config = TransformerConfig(script_file=TRANSFORMER_SCRIPT)\n",
    "\n",
    "iris_predictor = ms.create_predictor(iris_model,\n",
    "                                     name=\"iriscomplexclassifier\",\n",
    "                                     predictor_config=predictor_config,\n",
    "                                     transformer_config=transformer_config)\n",
    "\n",
    "iris_deployment = iris_predictor.deploy()"
   ]
  },
  {
   "cell_type": "markdown",
   "id": "b6522445",
   "metadata": {},
   "source": [
    "## Get deployments"
   ]
  },
  {
   "cell_type": "code",
   "execution_count": 15,
   "id": "a843cc0e",
   "metadata": {},
   "outputs": [
    {
     "data": {
      "text/plain": [
       "['irisdeployment : 14',\n",
       " 'irisflowerclassifier : 13',\n",
       " 'irisclassifierfromdeployment : 17',\n",
       " 'irisclassifierfrommodel : 15',\n",
       " 'irisclassifierfrompredictor : 16',\n",
       " 'iriscomplexclassifier : 18']"
      ]
     },
     "execution_count": 15,
     "metadata": {},
     "output_type": "execute_result"
    }
   ],
   "source": [
    "# get all\n",
    "[d.name + \" : \" + str(d.id) for d in ms.get_deployments()]"
   ]
  },
  {
   "cell_type": "markdown",
   "id": "a872d235",
   "metadata": {},
   "source": [
    "## Operations on deployments"
   ]
  },
  {
   "cell_type": "code",
   "execution_count": 16,
   "id": "76858958",
   "metadata": {},
   "outputs": [
    {
     "name": "stdout",
     "output_type": "stream",
     "text": [
      "{\n",
      "    \"artifact_version\": 8,\n",
      "    \"batching_enabled\": false,\n",
      "    \"created\": \"2022-02-02T14:52:00Z\",\n",
      "    \"creator\": \"Admin Admin\",\n",
      "    \"id\": 18,\n",
      "    \"inference_logging\": \"NONE\",\n",
      "    \"model_name\": \"irisflowerclassifier\",\n",
      "    \"model_path\": \"/Projects/demo_ml_meb10000/Models/irisflowerclassifier\",\n",
      "    \"model_server\": \"PYTHON\",\n",
      "    \"model_version\": 1,\n",
      "    \"name\": \"iriscomplexclassifier\",\n",
      "    \"predictor\": \"predictor.py\",\n",
      "    \"predictor_resources_config\": {\n",
      "        \"cores\": 1,\n",
      "        \"gpus\": 0,\n",
      "        \"memory\": 1024\n",
      "    },\n",
      "    \"requested_instances\": 1,\n",
      "    \"requested_transformer_instances\": 1,\n",
      "    \"serving_tool\": \"KFSERVING\",\n",
      "    \"transformer\": \"transformer.py\",\n",
      "    \"transformer_resources_config\": {\n",
      "        \"cores\": 1,\n",
      "        \"gpus\": 0,\n",
      "        \"memory\": 1024\n",
      "    }\n",
      "}\n"
     ]
    }
   ],
   "source": [
    "# describe\n",
    "iris_deployment = ms.get_deployment(\"iriscomplexclassifier\")\n",
    "iris_deployment.describe()"
   ]
  },
  {
   "cell_type": "code",
   "execution_count": 17,
   "id": "dfb6b361",
   "metadata": {},
   "outputs": [
    {
     "name": "stdout",
     "output_type": "stream",
     "text": [
      "{\n",
      "    \"available_instances\": 0,\n",
      "    \"available_transformer_instances\": 0,\n",
      "    \"deployed\": false,\n",
      "    \"internal_ips\": [\n",
      "        \"10.0.2.15\"\n",
      "    ],\n",
      "    \"internal_path\": \"/v1/models/iriscomplexclassifier\",\n",
      "    \"internal_port\": 30824,\n",
      "    \"status\": \"Stopped\"\n",
      "}\n"
     ]
    }
   ],
   "source": [
    "# get state\n",
    "deployment_state = iris_deployment.get_state()\n",
    "deployment_state.describe()"
   ]
  },
  {
   "cell_type": "code",
   "execution_count": 18,
   "id": "9859ce7b",
   "metadata": {},
   "outputs": [
    {
     "data": {
      "application/vnd.jupyter.widget-view+json": {
       "model_id": "17dadb6a5712452aa7edfbf78982cc74",
       "version_major": 2,
       "version_minor": 0
      },
      "text/plain": [
       "HBox(children=(FloatProgress(value=0.0, max=2.0), HTML(value='')))"
      ]
     },
     "metadata": {},
     "output_type": "display_data"
    },
    {
     "name": "stdout",
     "output_type": "stream",
     "text": [
      "Deployment has not reached the desired status within the expected awaiting time, set a higher value for await_running to wait longer.\n"
     ]
    }
   ],
   "source": [
    "# start\n",
    "iris_deployment.start()"
   ]
  },
  {
   "cell_type": "code",
   "execution_count": null,
   "id": "33e6fca2",
   "metadata": {},
   "outputs": [],
   "source": [
    "# get state\n",
    "deployment_state = iris_deployment.get_state()\n",
    "deployment_state.describe()"
   ]
  },
  {
   "cell_type": "code",
   "execution_count": null,
   "id": "a749bfc6",
   "metadata": {},
   "outputs": [],
   "source": [
    "# stop\n",
    "iris_deployment.stop()"
   ]
  },
  {
   "cell_type": "code",
   "execution_count": null,
   "id": "fab27532",
   "metadata": {},
   "outputs": [],
   "source": [
    "# get state\n",
    "deployment_state = deployment.get_state()\n",
    "deployment_state.describe()"
   ]
  },
  {
   "cell_type": "markdown",
   "id": "c08fd691",
   "metadata": {},
   "source": [
    "## More complex use"
   ]
  },
  {
   "cell_type": "code",
   "execution_count": null,
   "id": "9294f8cf",
   "metadata": {},
   "outputs": [],
   "source": [
    "PREDICTOR_SCRIPT = \"/Projects/demo_ml_meb10000/Jupyter/serving/kfserving/python/predictor.py\"\n",
    "TRANSFORMER_SCRIPT = \"/Projects/demo_ml_meb10000/Jupyter/serving/kfserving/sklearn/transformer.py\"\n",
    "\n",
    "predictor_config = PredictorConfig(model_server=\"PYTHON\",\n",
    "                                   serving_tool=\"KFSERVING\",\n",
    "                                   script_file=PREDICTOR_SCRIPT)\n",
    "\n",
    "transformer_config = TransformerConfig(script_file=TRANSFORMER_SCRIPT)\n",
    "\n",
    "iris_predictor = ms.create_predictor(iris_model,\n",
    "                                     predictor_config=predictor_config,\n",
    "                                     transformer_config=transformer_config)"
   ]
  },
  {
   "cell_type": "code",
   "execution_count": null,
   "id": "51da516f",
   "metadata": {},
   "outputs": [],
   "source": [
    "iris_deployment = iris_predictor.deploy()"
   ]
  },
  {
   "cell_type": "code",
   "execution_count": null,
   "id": "dd9b3a4d",
   "metadata": {},
   "outputs": [],
   "source": [
    "iris_deployment.start()"
   ]
  },
  {
   "cell_type": "code",
   "execution_count": null,
   "id": "82aa2b92",
   "metadata": {},
   "outputs": [],
   "source": [
    "MODEL_NAME = \"irisflowerclassifier\"\n",
    "\n",
    "# get all\n",
    "[d.name + \" : \" + str(d.id) for d in ms.get_deployments()]"
   ]
  },
  {
   "cell_type": "code",
   "execution_count": null,
   "id": "5585febc",
   "metadata": {},
   "outputs": [],
   "source": [
    "# get by id\n",
    "iris_deployment = ms.get_deployment(1061)\n",
    "iris_deployment.describe()"
   ]
  },
  {
   "cell_type": "code",
   "execution_count": null,
   "id": "9f56c2ed",
   "metadata": {},
   "outputs": [],
   "source": [
    "iris_deployment.start()"
   ]
  },
  {
   "cell_type": "code",
   "execution_count": null,
   "id": "591de5c5",
   "metadata": {},
   "outputs": [],
   "source": [
    "iris_deployment.get_state().status"
   ]
  },
  {
   "cell_type": "markdown",
   "id": "d116bee9",
   "metadata": {},
   "source": [
    "## Make inference  (PENDING)"
   ]
  },
  {
   "cell_type": "code",
   "execution_count": null,
   "id": "854d0546",
   "metadata": {},
   "outputs": [],
   "source": [
    "import json\n",
    "import random\n",
    "\n",
    "NUM_FEATURES = 4\n",
    "\n",
    "data = {\"inputs\" : [[random.uniform(1, 8) for i in range(NUM_FEATURES)]]}\n",
    "response = iris_deployment.predict(data)\n",
    "print(response)"
   ]
  },
  {
   "cell_type": "markdown",
   "id": "c83428a3",
   "metadata": {},
   "source": [
    "## Delete deployment"
   ]
  },
  {
   "cell_type": "code",
   "execution_count": null,
   "id": "c230e7e9",
   "metadata": {},
   "outputs": [],
   "source": [
    "deployment.delete()"
   ]
  }
 ],
 "metadata": {
  "kernelspec": {
   "display_name": "Python",
   "language": "python",
   "name": "python3"
  },
  "language_info": {
   "codemirror_mode": {
    "name": "ipython",
    "version": 3
   },
   "file_extension": ".py",
   "mimetype": "text/x-python",
   "name": "python",
   "nbconvert_exporter": "python",
   "pygments_lexer": "ipython3",
   "version": "3.8.11"
  }
 },
 "nbformat": 4,
 "nbformat_minor": 5
}